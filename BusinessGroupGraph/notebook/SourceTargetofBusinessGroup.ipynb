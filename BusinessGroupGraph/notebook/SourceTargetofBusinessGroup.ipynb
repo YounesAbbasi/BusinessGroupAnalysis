{
 "cells": [
  {
   "cell_type": "code",
   "execution_count": 2,
   "metadata": {},
   "outputs": [],
   "source": [
    "import pandas as pd"
   ]
  },
  {
   "cell_type": "code",
   "execution_count": 4,
   "metadata": {},
   "outputs": [],
   "source": [
    "SourceTarget = pd.read_csv(r'D:\\R_project\\Business_Group_project\\BusinessGroupGraph\\raw\\source_target_all_14020320_AddedMellatAndPostBank.csv')"
   ]
  },
  {
   "cell_type": "code",
   "execution_count": 6,
   "metadata": {},
   "outputs": [],
   "source": [
    "BusinessGroup = pd.read_excel(r'D:\\R_project\\Business_Group_project\\BusinessGroupGraph\\raw\\business_group_MellatBank.xlsx')"
   ]
  },
  {
   "cell_type": "code",
   "execution_count": 16,
   "metadata": {},
   "outputs": [],
   "source": [
    "BusGroupNationalId = list(BusinessGroup['Nationalcode_x'])\n",
    "BusGroupNationalId.append(BusinessGroup['PyramidHeadNationalCode'][0])"
   ]
  },
  {
   "cell_type": "code",
   "execution_count": 25,
   "metadata": {},
   "outputs": [],
   "source": [
    "filter = SourceTarget['shareholder_national_id'].isin(BusGroupNationalId)"
   ]
  },
  {
   "cell_type": "code",
   "execution_count": 29,
   "metadata": {},
   "outputs": [],
   "source": [
    "BusGrSTDf = SourceTarget[filter].drop(columns=['Shareholder','shareholder_id'])"
   ]
  },
  {
   "cell_type": "code",
   "execution_count": 38,
   "metadata": {},
   "outputs": [],
   "source": [
    "node1 = BusGrSTDf[['Company','company_national_id']].rename(columns={'Company':'label','company_national_id':'id'})\n",
    "node2 = BusGrSTDf[['shareholder_rasmio','shareholder_national_id']].rename(columns={'shareholder_rasmio':'label','shareholder_national_id':'id'})"
   ]
  },
  {
   "cell_type": "code",
   "execution_count": 42,
   "metadata": {},
   "outputs": [],
   "source": [
    "Node = pd.concat([node1, node2]).drop_duplicates(subset=['id'])"
   ]
  },
  {
   "cell_type": "code",
   "execution_count": 43,
   "metadata": {},
   "outputs": [],
   "source": [
    "SourceTarget = BusGrSTDf.rename(columns={'shareholder_national_id':'Source', 'company_national_id':'Target', 'Percent':'Weight'})"
   ]
  },
  {
   "cell_type": "code",
   "execution_count": 45,
   "metadata": {},
   "outputs": [],
   "source": [
    "SourceTarget = SourceTarget[['Source', 'Target', 'Weight']]"
   ]
  },
  {
   "cell_type": "code",
   "execution_count": 52,
   "metadata": {},
   "outputs": [],
   "source": [
    "Node.to_csv('BusGrNodeMellat.csv', encoding='utf-8-sig', index=False)"
   ]
  },
  {
   "cell_type": "code",
   "execution_count": 53,
   "metadata": {},
   "outputs": [],
   "source": [
    "SourceTarget.to_csv('BusGrSourceTargetMellat.csv', encoding='utf-8-sig', index=False)"
   ]
  },
  {
   "cell_type": "code",
   "execution_count": null,
   "metadata": {},
   "outputs": [],
   "source": []
  }
 ],
 "metadata": {
  "kernelspec": {
   "display_name": "Python 3.11.0 64-bit",
   "language": "python",
   "name": "python3"
  },
  "language_info": {
   "codemirror_mode": {
    "name": "ipython",
    "version": 3
   },
   "file_extension": ".py",
   "mimetype": "text/x-python",
   "name": "python",
   "nbconvert_exporter": "python",
   "pygments_lexer": "ipython3",
   "version": "3.11.0"
  },
  "orig_nbformat": 4,
  "vscode": {
   "interpreter": {
    "hash": "b3a51115edf0179ae0f122298c570cb353cbcb7e9d37d8503fe4168095dddd61"
   }
  }
 },
 "nbformat": 4,
 "nbformat_minor": 2
}
