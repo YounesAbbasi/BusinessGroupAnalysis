{
 "cells": [
  {
   "cell_type": "code",
   "execution_count": 55,
   "metadata": {},
   "outputs": [],
   "source": [
    "import pandas as pd\n",
    "import numpy as np"
   ]
  },
  {
   "cell_type": "code",
   "execution_count": 56,
   "metadata": {},
   "outputs": [],
   "source": [
    "f_vec = pd.read_csv(r'D:\\R_project\\Business_Group_project\\f_Vector_for_family.csv', encoding='utf-8')\n",
    "position = pd.read_csv(r'D:\\R_project\\Business_Group_project\\position.csv', encoding='utf-8')\n",
    "u_vec = pd.read_csv(r'D:\\R_project\\Business_Group_project\\U_Vector_and_national_Code.csv', encoding='utf-8')\n",
    "vot_right = pd.read_excel(r'D:\\R_project\\Business_Group_project\\voting_right.xlsx')\n",
    "com_id = pd.read_excel(r'D:\\R_project\\Business_Group_project\\CompanyListID.xlsx')"
   ]
  },
  {
   "cell_type": "code",
   "execution_count": 57,
   "metadata": {},
   "outputs": [],
   "source": [
    "def fin_bus_gr(Bank_Name, f_vec, u_vec, vot_right, position, com_id):\n",
    "    f_pos_vec = f_vec.merge(position, how='left', left_index=True, right_index=True)\n",
    "    u_vec.rename(columns={'list_of_ownership_names':'Nationalcode',\n",
    "                'Unnamed: 2':'ultimate_ownership'}, inplace=True)\n",
    "    del u_vec['Unnamed: 0']\n",
    "    f_pos_ul = f_pos_vec.merge(u_vec, how='left', right_on='Nationalcode', left_on='Unnamed: 0_x')\n",
    "    f_pos_ul.rename(columns={'Unnamed: 0_x':'first column is index of f_vector',\n",
    "                            'Malekiat_Dolat_Dar_Sherkat':'direct_investment'},inplace=True)\n",
    "    f_pos_ul_vr = f_pos_ul.merge(vot_right, how='left', on='first column is index of f_vector')\n",
    "    f_pos_ul_vr.rename(columns={'x':'position'}, inplace=True)\n",
    "    f_pos_ul_vr.drop(columns=['Name','first column is index of f_vector'],inplace=True)\n",
    "    # com_id.rename(columns={'NationalId':'Nationalcode'}, inplace=True)\n",
    "    f_pos_ul_vr = f_pos_ul_vr.merge(com_id, how='left', left_on='Nationalcode_x', right_on='NationalId')\n",
    "    bank_name = Bank_Name\n",
    "    del f_pos_ul_vr['Unnamed: 0_y']\n",
    "    f_pos_ul_vr.to_excel(f'D:/R_project/Business_Group_project/business_group_{bank_name}.xlsx', index=False)\n",
    "    return f_pos_ul_vr\n",
    "    "
   ]
  },
  {
   "cell_type": "code",
   "execution_count": 58,
   "metadata": {},
   "outputs": [],
   "source": [
    "a=fin_bus_gr('ShastaHolding',f_vec,u_vec,vot_right,position,com_id)"
   ]
  }
 ],
 "metadata": {
  "kernelspec": {
   "display_name": "Python 3.11.0 64-bit",
   "language": "python",
   "name": "python3"
  },
  "language_info": {
   "codemirror_mode": {
    "name": "ipython",
    "version": 3
   },
   "file_extension": ".py",
   "mimetype": "text/x-python",
   "name": "python",
   "nbconvert_exporter": "python",
   "pygments_lexer": "ipython3",
   "version": "3.11.0"
  },
  "orig_nbformat": 4,
  "vscode": {
   "interpreter": {
    "hash": "b3a51115edf0179ae0f122298c570cb353cbcb7e9d37d8503fe4168095dddd61"
   }
  }
 },
 "nbformat": 4,
 "nbformat_minor": 2
}
