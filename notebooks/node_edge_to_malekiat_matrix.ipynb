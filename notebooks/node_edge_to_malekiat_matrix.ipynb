{
 "cells": [
  {
   "cell_type": "code",
   "execution_count": 4,
   "metadata": {},
   "outputs": [],
   "source": [
    "import pandas as pd\n",
    "import numpy as np\n",
    "import networkx as nx"
   ]
  },
  {
   "cell_type": "markdown",
   "metadata": {},
   "source": [
    "### import all edges that nclude family and other"
   ]
  },
  {
   "cell_type": "code",
   "execution_count": 5,
   "metadata": {},
   "outputs": [],
   "source": [
    "source_tar_df = pd.read_csv(r\"D:\\R_project\\Business_Group_project\\raw\\source_target_all_14020320_AddedMellatAndPostBank.csv\")"
   ]
  },
  {
   "cell_type": "markdown",
   "metadata": {},
   "source": [
    "#### check id"
   ]
  },
  {
   "cell_type": "code",
   "execution_count": 6,
   "metadata": {},
   "outputs": [
    {
     "name": "stdout",
     "output_type": "stream",
     "text": [
      "<class 'pandas.core.frame.DataFrame'>\n",
      "RangeIndex: 3788 entries, 0 to 3787\n",
      "Data columns (total 7 columns):\n",
      " #   Column                   Non-Null Count  Dtype  \n",
      "---  ------                   --------------  -----  \n",
      " 0   Shareholder              3788 non-null   object \n",
      " 1   Percent                  3788 non-null   float64\n",
      " 2   Company                  3788 non-null   object \n",
      " 3   shareholder_id           3782 non-null   float64\n",
      " 4   company_national_id      3788 non-null   int64  \n",
      " 5   shareholder_rasmio       3788 non-null   object \n",
      " 6   shareholder_national_id  3788 non-null   int64  \n",
      "dtypes: float64(2), int64(2), object(3)\n",
      "memory usage: 207.3+ KB\n"
     ]
    }
   ],
   "source": [
    "source_tar_df.info()"
   ]
  },
  {
   "cell_type": "code",
   "execution_count": 7,
   "metadata": {},
   "outputs": [
    {
     "data": {
      "text/plain": [
       "array([11], dtype=int64)"
      ]
     },
     "execution_count": 7,
     "metadata": {},
     "output_type": "execute_result"
    }
   ],
   "source": [
    "source_tar_df['shareholder_national_id'].apply(lambda x: len(str(x))).unique()"
   ]
  },
  {
   "cell_type": "markdown",
   "metadata": {},
   "source": [
    "#### Functions for f_vector and malekiat matrix"
   ]
  },
  {
   "cell_type": "code",
   "execution_count": 8,
   "metadata": {},
   "outputs": [],
   "source": [
    "def f_vector(source_tar_df,pyramid_head_id,):\n",
    "    comp_df = source_tar_df[['Company','company_national_id']]\n",
    "    share_df = source_tar_df[['shareholder_rasmio','shareholder_national_id']]\n",
    "    share_df.rename(columns={'shareholder_rasmio':'Company','shareholder_national_id':'company_national_id'},inplace=True)\n",
    "    nodes = pd.concat([comp_df,share_df])\n",
    "    nodes.drop_duplicates(subset='company_national_id', inplace=True)\n",
    "    nodes.reset_index(drop=True, inplace=True)\n",
    "    pyramid_head_id = pyramid_head_id\n",
    "    dir_share = source_tar_df[source_tar_df['shareholder_national_id']==pyramid_head_id][['shareholder_national_id','company_national_id','Percent']]\n",
    "    py_dir_id = dir_share.company_national_id.to_list()\n",
    "    py_dir_id.append(pyramid_head_id)\n",
    "    ind_list = []\n",
    "    ind_list.append(nodes[nodes['company_national_id']==pyramid_head_id].index[0])\n",
    "    nodes_not_py=nodes.drop(ind_list).reset_index(drop=True)\n",
    "    nodes_not_py['Percent']=0\n",
    "    for i in dir_share['company_national_id']:\n",
    "        a = nodes_not_py[nodes_not_py['company_national_id']==i].index[0]\n",
    "        b = dir_share[dir_share['company_national_id']==i]['Percent'].index[0]\n",
    "        nodes_not_py.iloc[a,2] = dir_share[dir_share['company_national_id']==i]['Percent'][b]\n",
    "    nodes_not_py.rename(columns={'company_national_id':'Nationalcode','Company':'Name','Percent':'Malekiat_Dolat_Dar_Sherkat'}, inplace=True)\n",
    "    nodes_not_py.reset_index(drop=True,inplace=True)\n",
    "    nodes_not_py = nodes_not_py[['Nationalcode','Name','Malekiat_Dolat_Dar_Sherkat']]\n",
    "    #direct share of pyramid's head in business group firms\n",
    "    nodes_not_py.to_csv('D:/R_Project/Business_Group_project/f_Vector_for_family.csv',encoding='utf-8-sig')\n",
    "    nodes_not_py.to_excel('D:/R_Project/Business_Group_project/f_Vector_for_family.xlsx')\n",
    "    return nodes_not_py"
   ]
  },
  {
   "cell_type": "code",
   "execution_count": 9,
   "metadata": {},
   "outputs": [],
   "source": [
    "def matrix_malekiat(source_tar_df,pyramid_head_id):\n",
    "    del_edge = []\n",
    "    del_edge.extend(list(source_tar_df[source_tar_df['shareholder_national_id']==pyramid_head_id].index))\n",
    "    del_edge.extend(list(source_tar_df[source_tar_df['company_national_id']==pyramid_head_id].index))\n",
    "    source_tar_not_py=source_tar_df.drop(del_edge).reset_index(drop=True)\n",
    "    dfn = f_vector(source_tar_df,pyramid_head_id)[['Nationalcode','Name']] \n",
    "    node = dfn.values.tolist()\n",
    "    nodet=[]\n",
    "    for i in node:\n",
    "        i=tuple(i)\n",
    "        nodet.append(i)\n",
    "    n = list(dfn['Name'])\n",
    "    nat = list(dfn['Nationalcode'])\n",
    "    dfe = source_tar_not_py[['shareholder_national_id','company_national_id','Percent']]\n",
    "    dfe.rename(columns={'shareholder_national_id':'source','company_national_id':'target','Percent':'weight'},inplace=True)\n",
    "    e = dfe.values.tolist()\n",
    "    et=[]\n",
    "    for i in e:\n",
    "        i = tuple(i)\n",
    "        et.append(i)\n",
    "    G=nx.DiGraph()\n",
    "    G.add_nodes_from(nat)\n",
    "    G.add_weighted_edges_from(et)\n",
    "    M = nx.adjacency_matrix(G).todense()\n",
    "    matrix = pd.DataFrame(M)\n",
    "    matrix.to_excel(\"D:/R_Project/Business_Group_project/processed/malekiat_matrix_of_family.xlsx\")\n",
    "    matrix.to_csv(\"D:/R_Project/Business_Group_project/processed/malekiat_matrix_of_family.csv\")\n",
    "    return matrix"
   ]
  },
  {
   "cell_type": "markdown",
   "metadata": {},
   "source": [
    "#### function executing"
   ]
  },
  {
   "cell_type": "code",
   "execution_count": 10,
   "metadata": {},
   "outputs": [],
   "source": [
    "pyramid_head_id=14000187509"
   ]
  },
  {
   "cell_type": "code",
   "execution_count": 11,
   "metadata": {},
   "outputs": [
    {
     "name": "stderr",
     "output_type": "stream",
     "text": [
      "C:\\Users\\abyo0503\\AppData\\Local\\Temp\\ipykernel_9040\\4014306860.py:4: SettingWithCopyWarning: \n",
      "A value is trying to be set on a copy of a slice from a DataFrame\n",
      "\n",
      "See the caveats in the documentation: https://pandas.pydata.org/pandas-docs/stable/user_guide/indexing.html#returning-a-view-versus-a-copy\n",
      "  share_df.rename(columns={'shareholder_rasmio':'Company','shareholder_national_id':'company_national_id'},inplace=True)\n"
     ]
    },
    {
     "data": {
      "text/html": [
       "<div>\n",
       "<style scoped>\n",
       "    .dataframe tbody tr th:only-of-type {\n",
       "        vertical-align: middle;\n",
       "    }\n",
       "\n",
       "    .dataframe tbody tr th {\n",
       "        vertical-align: top;\n",
       "    }\n",
       "\n",
       "    .dataframe thead th {\n",
       "        text-align: right;\n",
       "    }\n",
       "</style>\n",
       "<table border=\"1\" class=\"dataframe\">\n",
       "  <thead>\n",
       "    <tr style=\"text-align: right;\">\n",
       "      <th></th>\n",
       "      <th>Nationalcode</th>\n",
       "      <th>Name</th>\n",
       "      <th>Malekiat_Dolat_Dar_Sherkat</th>\n",
       "    </tr>\n",
       "  </thead>\n",
       "  <tbody>\n",
       "    <tr>\n",
       "      <th>0</th>\n",
       "      <td>10380244072</td>\n",
       "      <td>توريستي ورفاهي آبادگران ايران</td>\n",
       "      <td>0.0</td>\n",
       "    </tr>\n",
       "    <tr>\n",
       "      <th>1</th>\n",
       "      <td>10460039587</td>\n",
       "      <td>سيم و كابل ابهر</td>\n",
       "      <td>0.0</td>\n",
       "    </tr>\n",
       "    <tr>\n",
       "      <th>2</th>\n",
       "      <td>10100621228</td>\n",
       "      <td>لابراتوارداروسازي‌ دكترعبيدي‌</td>\n",
       "      <td>0.0</td>\n",
       "    </tr>\n",
       "    <tr>\n",
       "      <th>3</th>\n",
       "      <td>10102405220</td>\n",
       "      <td>سيمان آبيك</td>\n",
       "      <td>0.0</td>\n",
       "    </tr>\n",
       "    <tr>\n",
       "      <th>4</th>\n",
       "      <td>10260200698</td>\n",
       "      <td>كشت و صنعت آبشيرين</td>\n",
       "      <td>0.0</td>\n",
       "    </tr>\n",
       "    <tr>\n",
       "      <th>...</th>\n",
       "      <td>...</td>\n",
       "      <td>...</td>\n",
       "      <td>...</td>\n",
       "    </tr>\n",
       "    <tr>\n",
       "      <th>2017</th>\n",
       "      <td>14006704670</td>\n",
       "      <td>توسعه کسب و کار پارس سپنتا</td>\n",
       "      <td>0.0</td>\n",
       "    </tr>\n",
       "    <tr>\n",
       "      <th>2018</th>\n",
       "      <td>14004875152</td>\n",
       "      <td>پویش بازرگان ذوب آهن اصفهان</td>\n",
       "      <td>0.0</td>\n",
       "    </tr>\n",
       "    <tr>\n",
       "      <th>2019</th>\n",
       "      <td>10100947065</td>\n",
       "      <td>شهرکهای کشاورزی</td>\n",
       "      <td>0.0</td>\n",
       "    </tr>\n",
       "    <tr>\n",
       "      <th>2020</th>\n",
       "      <td>10100093996</td>\n",
       "      <td>سیلوهای ذخیره سازی و فرآوری غلات زر</td>\n",
       "      <td>0.0</td>\n",
       "    </tr>\n",
       "    <tr>\n",
       "      <th>2021</th>\n",
       "      <td>10980098276</td>\n",
       "      <td>صنعتی سمولینای زر</td>\n",
       "      <td>0.0</td>\n",
       "    </tr>\n",
       "  </tbody>\n",
       "</table>\n",
       "<p>2022 rows × 3 columns</p>\n",
       "</div>"
      ],
      "text/plain": [
       "      Nationalcode                                 Name  \\\n",
       "0      10380244072        توريستي ورفاهي آبادگران ايران   \n",
       "1      10460039587                      سيم و كابل ابهر   \n",
       "2      10100621228        لابراتوارداروسازي‌ دكترعبيدي‌   \n",
       "3      10102405220                           سيمان آبيك   \n",
       "4      10260200698                   كشت و صنعت آبشيرين   \n",
       "...            ...                                  ...   \n",
       "2017   14006704670           توسعه کسب و کار پارس سپنتا   \n",
       "2018   14004875152          پویش بازرگان ذوب آهن اصفهان   \n",
       "2019   10100947065                      شهرکهای کشاورزی   \n",
       "2020   10100093996  سیلوهای ذخیره سازی و فرآوری غلات زر   \n",
       "2021   10980098276                    صنعتی سمولینای زر   \n",
       "\n",
       "      Malekiat_Dolat_Dar_Sherkat  \n",
       "0                            0.0  \n",
       "1                            0.0  \n",
       "2                            0.0  \n",
       "3                            0.0  \n",
       "4                            0.0  \n",
       "...                          ...  \n",
       "2017                         0.0  \n",
       "2018                         0.0  \n",
       "2019                         0.0  \n",
       "2020                         0.0  \n",
       "2021                         0.0  \n",
       "\n",
       "[2022 rows x 3 columns]"
      ]
     },
     "execution_count": 11,
     "metadata": {},
     "output_type": "execute_result"
    }
   ],
   "source": [
    "f_vector(source_tar_df,pyramid_head_id)"
   ]
  },
  {
   "cell_type": "code",
   "execution_count": 12,
   "metadata": {},
   "outputs": [
    {
     "name": "stderr",
     "output_type": "stream",
     "text": [
      "C:\\Users\\abyo0503\\AppData\\Local\\Temp\\ipykernel_9040\\4014306860.py:4: SettingWithCopyWarning: \n",
      "A value is trying to be set on a copy of a slice from a DataFrame\n",
      "\n",
      "See the caveats in the documentation: https://pandas.pydata.org/pandas-docs/stable/user_guide/indexing.html#returning-a-view-versus-a-copy\n",
      "  share_df.rename(columns={'shareholder_rasmio':'Company','shareholder_national_id':'company_national_id'},inplace=True)\n",
      "C:\\Users\\abyo0503\\AppData\\Local\\Temp\\ipykernel_9040\\3082141898.py:15: SettingWithCopyWarning: \n",
      "A value is trying to be set on a copy of a slice from a DataFrame\n",
      "\n",
      "See the caveats in the documentation: https://pandas.pydata.org/pandas-docs/stable/user_guide/indexing.html#returning-a-view-versus-a-copy\n",
      "  dfe.rename(columns={'shareholder_national_id':'source','company_national_id':'target','Percent':'weight'},inplace=True)\n",
      "C:\\Users\\abyo0503\\AppData\\Local\\Temp\\ipykernel_9040\\3082141898.py:24: FutureWarning: adjacency_matrix will return a scipy.sparse array instead of a matrix in Networkx 3.0.\n",
      "  M = nx.adjacency_matrix(G).todense()\n"
     ]
    }
   ],
   "source": [
    "matrix_malekiat(source_tar_df,pyramid_head_id)"
   ]
  },
  {
   "cell_type": "code",
   "execution_count": null,
   "metadata": {},
   "outputs": [],
   "source": []
  }
 ],
 "metadata": {
  "kernelspec": {
   "display_name": "Python 3.11.0 64-bit",
   "language": "python",
   "name": "python3"
  },
  "language_info": {
   "codemirror_mode": {
    "name": "ipython",
    "version": 3
   },
   "file_extension": ".py",
   "mimetype": "text/x-python",
   "name": "python",
   "nbconvert_exporter": "python",
   "pygments_lexer": "ipython3",
   "version": "3.11.0"
  },
  "orig_nbformat": 4,
  "vscode": {
   "interpreter": {
    "hash": "b3a51115edf0179ae0f122298c570cb353cbcb7e9d37d8503fe4168095dddd61"
   }
  }
 },
 "nbformat": 4,
 "nbformat_minor": 2
}
